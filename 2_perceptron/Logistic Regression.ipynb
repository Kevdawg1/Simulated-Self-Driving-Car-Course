{
 "cells": [
  {
   "cell_type": "code",
   "execution_count": 35,
   "metadata": {},
   "outputs": [],
   "source": [
    "import numpy as np\n",
    "import matplotlib.pyplot as plt\n",
    "%matplotlib inline"
   ]
  },
  {
   "cell_type": "code",
   "execution_count": 33,
   "metadata": {},
   "outputs": [],
   "source": [
    "def draw(x1, x2):\n",
    "    ln = plt.plot(x1, x2)\n",
    "    \n",
    "def sigmoid(score):\n",
    "    return 1/(1 + np.exp(-score))\n",
    "\n",
    "def calculate_error(line_parameters, points, y):\n",
    "    m = points.shape[0]\n",
    "    p = sigmoid(points * line_parameters)\n",
    "    cross_entropy = -(1/m) * (np.log(p).T * y + np.log(1-p).T * (1-y))\n",
    "    return cross_entropy\n",
    "\n",
    "def gradient_descent(line_parameters, points, y, alpha):\n",
    "    m = points.shape[0]\n",
    "    for i in range(1000):\n",
    "        p = sigmoid(points * line_parameters)\n",
    "        gradient = (points.T * (p - y)) * (alpha/m)\n",
    "        line_parameters = line_parameters - gradient\n",
    "        \n",
    "        w1 = line_parameters.item(0)\n",
    "        w2 = line_parameters.item(1)\n",
    "        b = line_parameters.item(2)\n",
    "        x1 = np.array([\n",
    "            points[:,0].min(),       # gets the most left value\n",
    "            points[:,0].max()        # gets the most right value\n",
    "        ])\n",
    "        x2 = -b / w2 + x1 * (-w1 / w2)   # computes the vertical coords\n",
    "    draw(x1, x2)"
   ]
  },
  {
   "cell_type": "code",
   "execution_count": 24,
   "metadata": {},
   "outputs": [],
   "source": [
    "n_pts=100\n",
    "np.random.seed(0)\n",
    "\n",
    "bias = np.ones(n_pts)\n",
    "top_region=np.array([np.random.normal(10,2,n_pts), np.random.normal(12,2,n_pts), bias]).T\n",
    "bottom_region= np.array([np.random.normal(5,2, n_pts), np.random.normal(6,2, n_pts), bias]).T\n",
    "all_points = np.vstack((top_region, bottom_region))   # top half contains the top_region points \n",
    "\n",
    "# w1 = -0.2\n",
    "# w2 = -0.35\n",
    "# b = 3.5\n",
    "# line_parameters = np.matrix([w1, w2, b]).T\n",
    "line_parameters = np.matrix([np.zeros(3)]).T\n",
    "# w1 * x1 + w2 * x2 + b = 0\n",
    "# x1 = np.array([\n",
    "#     bottom_region[:,0].min(),    # gets the most left value\n",
    "#     top_region[:,0].max()        # gets the most right value\n",
    "# ])\n",
    "# x2 = -b / w2 + x1 * (-w1 / w2)   # computes the vertical coords\n",
    "# print(x1, x2)\n",
    "# print(all_points.shape)\n",
    "# print(line_parameters.shape)\n",
    "\n",
    "linear_combination = all_points * line_parameters\n",
    "# print(linear_combination)\n",
    "probabilities = sigmoid(linear_combination)\n",
    "y = np.array([np.zeros(n_pts), np.ones(n_pts)]).reshape(n_pts*2, 1)   # labels"
   ]
  },
  {
   "cell_type": "code",
   "execution_count": 25,
   "metadata": {},
   "outputs": [
    {
     "data": {
      "text/plain": [
       "matrix([[0.30139461]])"
      ]
     },
     "execution_count": 25,
     "metadata": {},
     "output_type": "execute_result"
    }
   ],
   "source": [
    "_, ax= plt.subplots(figsize=(4,4))\n",
    "ax.scatter(top_region[:,0], top_region[:,1], color='r')\n",
    "ax.scatter(bottom_region[:,0], bottom_region[:,1], color='b')\n",
    "# draw(x1, x2)\n",
    "gradient_descent(line_parameters, all_points, y, 0.06)\n",
    "plt.show()\n",
    "\n",
    "calculate_error(line_parameters, all_points, y)"
   ]
  },
  {
   "cell_type": "code",
   "execution_count": null,
   "metadata": {},
   "outputs": [],
   "source": []
  }
 ],
 "metadata": {
  "kernelspec": {
   "display_name": "Python 3",
   "language": "python",
   "name": "python3"
  },
  "language_info": {
   "codemirror_mode": {
    "name": "ipython",
    "version": 3
   },
   "file_extension": ".py",
   "mimetype": "text/x-python",
   "name": "python",
   "nbconvert_exporter": "python",
   "pygments_lexer": "ipython3",
   "version": "3.7.4"
  }
 },
 "nbformat": 4,
 "nbformat_minor": 2
}
